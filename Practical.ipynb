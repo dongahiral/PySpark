{
 "cells": [
  {
   "cell_type": "markdown",
   "id": "4e96c35d-edbd-4f41-9189-72d7a6973005",
   "metadata": {
    "jp-MarkdownHeadingCollapsed": true,
    "scrolled": true
   },
   "source": [
    "## Spark installtion"
   ]
  },
  {
   "cell_type": "code",
   "execution_count": 26,
   "id": "4d1e1fb8-57ef-4851-a559-8830ef8813f5",
   "metadata": {},
   "outputs": [
    {
     "name": "stdout",
     "output_type": "stream",
     "text": [
      "Requirement already satisfied: pyspark in c:\\users\\kinja\\appdata\\roaming\\python\\python311\\site-packages (3.4.1)\n",
      "Requirement already satisfied: py4j==0.10.9.7 in c:\\users\\kinja\\appdata\\roaming\\python\\python311\\site-packages (from pyspark) (0.10.9.7)\n"
     ]
    }
   ],
   "source": [
    "!pip install pyspark"
   ]
  },
  {
   "cell_type": "code",
   "execution_count": 2,
   "id": "503737e4-39c7-44c7-86d7-ce572705c940",
   "metadata": {},
   "outputs": [
    {
     "name": "stdout",
     "output_type": "stream",
     "text": [
      "Requirement already satisfied: findspark in c:\\users\\kinja\\appdata\\roaming\\python\\python311\\site-packages (2.0.1)\n"
     ]
    }
   ],
   "source": [
    "!pip install findspark"
   ]
  },
  {
   "cell_type": "code",
   "execution_count": 3,
   "id": "4b81a021-5881-4f12-9856-5d26579635d3",
   "metadata": {},
   "outputs": [
    {
     "name": "stdout",
     "output_type": "stream",
     "text": [
      "Name: pyspark\n",
      "Version: 3.4.1\n",
      "Summary: Apache Spark Python API\n",
      "Home-page: https://github.com/apache/spark/tree/master/python\n",
      "Author: Spark Developers\n",
      "Author-email: dev@spark.apache.org\n",
      "License: http://www.apache.org/licenses/LICENSE-2.0\n",
      "Location: C:\\Users\\kinja\\AppData\\Roaming\\Python\\Python311\\site-packages\n",
      "Requires: py4j\n",
      "Required-by: \n",
      "Note: you may need to restart the kernel to use updated packages.\n"
     ]
    }
   ],
   "source": [
    "pip show pyspark"
   ]
  },
  {
   "cell_type": "code",
   "execution_count": 4,
   "id": "b4fc35a8-58b5-46e1-981e-c40127959aee",
   "metadata": {},
   "outputs": [],
   "source": [
    "from pyspark.sql import SparkSession"
   ]
  },
  {
   "cell_type": "code",
   "execution_count": 5,
   "id": "4057ae3c-a9ca-46fe-bd12-430e027018b0",
   "metadata": {},
   "outputs": [],
   "source": [
    "spark=SparkSession.builder.appName('Data').getOrCreate()"
   ]
  },
  {
   "cell_type": "code",
   "execution_count": 6,
   "id": "64f2897b-caf2-4a94-be03-6b404cfb5b02",
   "metadata": {},
   "outputs": [
    {
     "data": {
      "text/html": [
       "\n",
       "            <div>\n",
       "                <p><b>SparkSession - in-memory</b></p>\n",
       "                \n",
       "        <div>\n",
       "            <p><b>SparkContext</b></p>\n",
       "\n",
       "            <p><a href=\"http://host.docker.internal:4040\">Spark UI</a></p>\n",
       "\n",
       "            <dl>\n",
       "              <dt>Version</dt>\n",
       "                <dd><code>v3.3.0</code></dd>\n",
       "              <dt>Master</dt>\n",
       "                <dd><code>local[*]</code></dd>\n",
       "              <dt>AppName</dt>\n",
       "                <dd><code>Data</code></dd>\n",
       "            </dl>\n",
       "        </div>\n",
       "        \n",
       "            </div>\n",
       "        "
      ],
      "text/plain": [
       "<pyspark.sql.session.SparkSession at 0x1ebcd32e0d0>"
      ]
     },
     "execution_count": 6,
     "metadata": {},
     "output_type": "execute_result"
    }
   ],
   "source": [
    "spark"
   ]
  },
  {
   "cell_type": "code",
   "execution_count": 7,
   "id": "be119d5e-ffc8-4591-bb11-c48c95c435f2",
   "metadata": {},
   "outputs": [
    {
     "name": "stdout",
     "output_type": "stream",
     "text": [
      "+---+----------+----------+------+--------------------+---------+\n",
      "| id|first_name| last_name|gender|         departments|   salary|\n",
      "+---+----------+----------+------+--------------------+---------+\n",
      "|  1|   Cordell|Kitchenham|  Male|Business Development|$18137.19|\n",
      "|  2| Emmalynne|Fearnsides|Female|           Marketing|$64524.97|\n",
      "|  3|     Jesse|   Hekkert|  Male|           Marketing|$51168.20|\n",
      "|  4|     Decca|   Klimsch|  Male|           Marketing|$17827.51|\n",
      "|  5|       Gib|Le Pruvost|  Male|  Product Management|$40026.02|\n",
      "|  6|      Drew|  Shenfish|  Male|               Sales|$75958.90|\n",
      "|  7|  Anabelle|   Burhill|Female|         Engineering|$60063.17|\n",
      "|  8|  Veronika|   Forryan|Female|     Human Resources|$44482.07|\n",
      "|  9|    Anthia|    Monini|Female|             Support|$81976.47|\n",
      "| 10|    Keelby|   McCahey|  Male|               Legal|$60125.48|\n",
      "| 11|  Rochette|   Bullick|Female|            Training|$92893.76|\n",
      "| 12|    Kippie|   Duckham|  Male|             Support|$63932.62|\n",
      "| 13|    Andeee|   Hanscom|Female|Business Development|$67861.20|\n",
      "| 14|       Kim|    Seymer|Female|     Human Resources|$70413.48|\n",
      "| 15|   Deloris|   Gabbett|Female|           Marketing|$40341.41|\n",
      "| 16|      Arny|    Gravie|  Male|         Engineering|$58095.96|\n",
      "| 17|  Andriana|   Swalwel|Female|  Product Management|$67978.97|\n",
      "| 18|    Olenka|     Ehrat|Female|               Legal|$57446.44|\n",
      "| 19|      Burk| Sallenger|  Male|Business Development|$22310.30|\n",
      "| 20|    Hewitt|   Dunnett|  Male|Research and Deve...|$88120.12|\n",
      "+---+----------+----------+------+--------------------+---------+\n",
      "only showing top 20 rows\n",
      "\n"
     ]
    }
   ],
   "source": [
    "# read the dataset\n",
    "spark.read.option('header','true').csv('D:/Hiral/Study/PySpark/EmpDetails.csv').show()"
   ]
  },
  {
   "cell_type": "code",
   "execution_count": 8,
   "id": "f52cb8d9-a9d9-4764-9c24-222ff69dc3a0",
   "metadata": {},
   "outputs": [
    {
     "name": "stdout",
     "output_type": "stream",
     "text": [
      "+---+----------+----------+------+--------------------+---------+\n",
      "| id|first_name| last_name|gender|         departments|   salary|\n",
      "+---+----------+----------+------+--------------------+---------+\n",
      "|  1|   Cordell|Kitchenham|  Male|Business Development|$18137.19|\n",
      "|  2| Emmalynne|Fearnsides|Female|           Marketing|$64524.97|\n",
      "|  3|     Jesse|   Hekkert|  Male|           Marketing|$51168.20|\n",
      "|  4|     Decca|   Klimsch|  Male|           Marketing|$17827.51|\n",
      "|  5|       Gib|Le Pruvost|  Male|  Product Management|$40026.02|\n",
      "|  6|      Drew|  Shenfish|  Male|               Sales|$75958.90|\n",
      "|  7|  Anabelle|   Burhill|Female|         Engineering|$60063.17|\n",
      "|  8|  Veronika|   Forryan|Female|     Human Resources|$44482.07|\n",
      "|  9|    Anthia|    Monini|Female|             Support|$81976.47|\n",
      "| 10|    Keelby|   McCahey|  Male|               Legal|$60125.48|\n",
      "| 11|  Rochette|   Bullick|Female|            Training|$92893.76|\n",
      "| 12|    Kippie|   Duckham|  Male|             Support|$63932.62|\n",
      "| 13|    Andeee|   Hanscom|Female|Business Development|$67861.20|\n",
      "| 14|       Kim|    Seymer|Female|     Human Resources|$70413.48|\n",
      "| 15|   Deloris|   Gabbett|Female|           Marketing|$40341.41|\n",
      "| 16|      Arny|    Gravie|  Male|         Engineering|$58095.96|\n",
      "| 17|  Andriana|   Swalwel|Female|  Product Management|$67978.97|\n",
      "| 18|    Olenka|     Ehrat|Female|               Legal|$57446.44|\n",
      "| 19|      Burk| Sallenger|  Male|Business Development|$22310.30|\n",
      "| 20|    Hewitt|   Dunnett|  Male|Research and Deve...|$88120.12|\n",
      "+---+----------+----------+------+--------------------+---------+\n",
      "only showing top 20 rows\n",
      "\n"
     ]
    }
   ],
   "source": [
    "df = spark.read.option('header','true').csv('D:/Hiral/Study/PySpark/EmpDetails.csv')\n",
    "df.show()"
   ]
  },
  {
   "cell_type": "code",
   "execution_count": 9,
   "id": "11db3cbe-199b-40e9-b1fe-fda092e7547b",
   "metadata": {},
   "outputs": [
    {
     "data": {
      "text/plain": [
       "pyspark.sql.dataframe.DataFrame"
      ]
     },
     "execution_count": 9,
     "metadata": {},
     "output_type": "execute_result"
    }
   ],
   "source": [
    "type(df)"
   ]
  },
  {
   "cell_type": "code",
   "execution_count": 10,
   "id": "43c50e37-1cf7-4e05-93b1-99d19da712ca",
   "metadata": {},
   "outputs": [
    {
     "name": "stdout",
     "output_type": "stream",
     "text": [
      "root\n",
      " |-- id: string (nullable = true)\n",
      " |-- first_name: string (nullable = true)\n",
      " |-- last_name: string (nullable = true)\n",
      " |-- gender: string (nullable = true)\n",
      " |-- departments: string (nullable = true)\n",
      " |-- salary: string (nullable = true)\n",
      "\n"
     ]
    }
   ],
   "source": [
    "df.printSchema()"
   ]
  },
  {
   "cell_type": "code",
   "execution_count": 11,
   "id": "0fccc81d-791c-4fed-b71d-296b9725f991",
   "metadata": {},
   "outputs": [
    {
     "data": {
      "text/plain": [
       "['id', 'first_name', 'last_name', 'gender', 'departments', 'salary']"
      ]
     },
     "execution_count": 11,
     "metadata": {},
     "output_type": "execute_result"
    }
   ],
   "source": [
    "# check the column name \n",
    "df.columns"
   ]
  },
  {
   "cell_type": "code",
   "execution_count": 12,
   "id": "af6c5460-6721-43cf-9aae-a8d91c209100",
   "metadata": {},
   "outputs": [
    {
     "data": {
      "text/plain": [
       "[Row(id='1', first_name='Cordell', last_name='Kitchenham', gender='Male', departments='Business Development', salary='$18137.19'),\n",
       " Row(id='2', first_name='Emmalynne', last_name='Fearnsides', gender='Female', departments='Marketing', salary='$64524.97')]"
      ]
     },
     "execution_count": 12,
     "metadata": {},
     "output_type": "execute_result"
    }
   ],
   "source": [
    "# dispaly first 2 records\n",
    "df.head(2)"
   ]
  },
  {
   "cell_type": "code",
   "execution_count": 13,
   "id": "0a275ccb-7801-435d-9b8b-27af26d4ab66",
   "metadata": {},
   "outputs": [
    {
     "name": "stdout",
     "output_type": "stream",
     "text": [
      "+----------+\n",
      "|first_name|\n",
      "+----------+\n",
      "|   Cordell|\n",
      "| Emmalynne|\n",
      "|     Jesse|\n",
      "|     Decca|\n",
      "|       Gib|\n",
      "|      Drew|\n",
      "|  Anabelle|\n",
      "|  Veronika|\n",
      "|    Anthia|\n",
      "|    Keelby|\n",
      "|  Rochette|\n",
      "|    Kippie|\n",
      "|    Andeee|\n",
      "|       Kim|\n",
      "|   Deloris|\n",
      "|      Arny|\n",
      "|  Andriana|\n",
      "|    Olenka|\n",
      "|      Burk|\n",
      "|    Hewitt|\n",
      "+----------+\n",
      "only showing top 20 rows\n",
      "\n"
     ]
    }
   ],
   "source": [
    "# select any particular filed \n",
    "df.select(\"first_name\").show()"
   ]
  },
  {
   "cell_type": "code",
   "execution_count": 14,
   "id": "5a819fe3-c4c2-4050-9295-86571e22ff0f",
   "metadata": {},
   "outputs": [
    {
     "data": {
      "text/plain": [
       "[('id', 'string'),\n",
       " ('first_name', 'string'),\n",
       " ('last_name', 'string'),\n",
       " ('gender', 'string'),\n",
       " ('departments', 'string'),\n",
       " ('salary', 'string')]"
      ]
     },
     "execution_count": 14,
     "metadata": {},
     "output_type": "execute_result"
    }
   ],
   "source": [
    "# display column data types\n",
    "df.dtypes"
   ]
  },
  {
   "cell_type": "code",
   "execution_count": 15,
   "id": "6adbb9a3-0c6c-4f4a-8405-2073b9347e84",
   "metadata": {},
   "outputs": [
    {
     "name": "stdout",
     "output_type": "stream",
     "text": [
      "+-------+-----------------+----------+----------+----------+-----------+---------+\n",
      "|summary|               id|first_name| last_name|    gender|departments|   salary|\n",
      "+-------+-----------------+----------+----------+----------+-----------+---------+\n",
      "|  count|             1000|      1000|      1000|      1000|       1000|     1000|\n",
      "|   mean|            500.5|      null|      null|      null|       null|     null|\n",
      "| stddev|288.8194360957494|      null|      null|      null|       null|     null|\n",
      "|    min|                1|   Abagail|  Ackhurst|   Agender| Accounting|$10002.37|\n",
      "|    max|              999|    Zilvia|de Villier|Polygender|   Training|$94991.26|\n",
      "+-------+-----------------+----------+----------+----------+-----------+---------+\n",
      "\n"
     ]
    }
   ],
   "source": [
    "df.describe().show()"
   ]
  },
  {
   "cell_type": "code",
   "execution_count": 16,
   "id": "36752d47-f423-49c4-8e70-2f7d047dd9d3",
   "metadata": {},
   "outputs": [
    {
     "name": "stdout",
     "output_type": "stream",
     "text": [
      "+---+----------+------+--------------------+---------+\n",
      "| id|first_name|gender|         departments|   salary|\n",
      "+---+----------+------+--------------------+---------+\n",
      "|  1|   Cordell|  Male|Business Development|$18137.19|\n",
      "|  2| Emmalynne|Female|           Marketing|$64524.97|\n",
      "|  3|     Jesse|  Male|           Marketing|$51168.20|\n",
      "|  4|     Decca|  Male|           Marketing|$17827.51|\n",
      "|  5|       Gib|  Male|  Product Management|$40026.02|\n",
      "|  6|      Drew|  Male|               Sales|$75958.90|\n",
      "|  7|  Anabelle|Female|         Engineering|$60063.17|\n",
      "|  8|  Veronika|Female|     Human Resources|$44482.07|\n",
      "|  9|    Anthia|Female|             Support|$81976.47|\n",
      "| 10|    Keelby|  Male|               Legal|$60125.48|\n",
      "| 11|  Rochette|Female|            Training|$92893.76|\n",
      "| 12|    Kippie|  Male|             Support|$63932.62|\n",
      "| 13|    Andeee|Female|Business Development|$67861.20|\n",
      "| 14|       Kim|Female|     Human Resources|$70413.48|\n",
      "| 15|   Deloris|Female|           Marketing|$40341.41|\n",
      "| 16|      Arny|  Male|         Engineering|$58095.96|\n",
      "| 17|  Andriana|Female|  Product Management|$67978.97|\n",
      "| 18|    Olenka|Female|               Legal|$57446.44|\n",
      "| 19|      Burk|  Male|Business Development|$22310.30|\n",
      "| 20|    Hewitt|  Male|Research and Deve...|$88120.12|\n",
      "+---+----------+------+--------------------+---------+\n",
      "only showing top 20 rows\n",
      "\n"
     ]
    }
   ],
   "source": [
    "# drop the any filed \n",
    "df.drop(\"last_name\").show()"
   ]
  },
  {
   "cell_type": "code",
   "execution_count": 18,
   "id": "6112ea46-24bd-4688-8c67-5086a76a4ad9",
   "metadata": {},
   "outputs": [
    {
     "name": "stdout",
     "output_type": "stream",
     "text": [
      "+---+----------+----------+------+--------------------+---------+\n",
      "| id|first_name| last_name|gender|         departments|   salary|\n",
      "+---+----------+----------+------+--------------------+---------+\n",
      "|  1|   Cordell|Kitchenham|  Male|Business Development|$18137.19|\n",
      "|  2| Emmalynne|Fearnsides|Female|           Marketing|$64524.97|\n",
      "|  3|     Jesse|   Hekkert|  Male|           Marketing|$51168.20|\n",
      "|  4|     Decca|   Klimsch|  Male|           Marketing|$17827.51|\n",
      "|  5|       Gib|Le Pruvost|  Male|  Product Management|$40026.02|\n",
      "|  6|      Drew|  Shenfish|  Male|               Sales|$75958.90|\n",
      "|  7|  Anabelle|   Burhill|Female|         Engineering|$60063.17|\n",
      "|  8|  Veronika|   Forryan|Female|     Human Resources|$44482.07|\n",
      "|  9|    Anthia|    Monini|Female|             Support|$81976.47|\n",
      "| 10|    Keelby|   McCahey|  Male|               Legal|$60125.48|\n",
      "| 11|  Rochette|   Bullick|Female|            Training|$92893.76|\n",
      "| 12|    Kippie|   Duckham|  Male|             Support|$63932.62|\n",
      "| 13|    Andeee|   Hanscom|Female|Business Development|$67861.20|\n",
      "| 14|       Kim|    Seymer|Female|     Human Resources|$70413.48|\n",
      "| 15|   Deloris|   Gabbett|Female|           Marketing|$40341.41|\n",
      "| 16|      Arny|    Gravie|  Male|         Engineering|$58095.96|\n",
      "| 17|  Andriana|   Swalwel|Female|  Product Management|$67978.97|\n",
      "| 18|    Olenka|     Ehrat|Female|               Legal|$57446.44|\n",
      "| 19|      Burk| Sallenger|  Male|Business Development|$22310.30|\n",
      "| 20|    Hewitt|   Dunnett|  Male|Research and Deve...|$88120.12|\n",
      "+---+----------+----------+------+--------------------+---------+\n",
      "only showing top 20 rows\n",
      "\n"
     ]
    }
   ],
   "source": [
    "# recreate drop filed \n",
    "df.na.drop().show()"
   ]
  },
  {
   "cell_type": "code",
   "execution_count": 19,
   "id": "81526122-d889-43a4-9700-0372b6e39ae7",
   "metadata": {},
   "outputs": [
    {
     "name": "stdout",
     "output_type": "stream",
     "text": [
      "+---+----------+----------+------+--------------------+---------+\n",
      "| id|first_name| last_name|gender|                dept|   salary|\n",
      "+---+----------+----------+------+--------------------+---------+\n",
      "|  1|   Cordell|Kitchenham|  Male|Business Development|$18137.19|\n",
      "|  2| Emmalynne|Fearnsides|Female|           Marketing|$64524.97|\n",
      "|  3|     Jesse|   Hekkert|  Male|           Marketing|$51168.20|\n",
      "|  4|     Decca|   Klimsch|  Male|           Marketing|$17827.51|\n",
      "|  5|       Gib|Le Pruvost|  Male|  Product Management|$40026.02|\n",
      "|  6|      Drew|  Shenfish|  Male|               Sales|$75958.90|\n",
      "|  7|  Anabelle|   Burhill|Female|         Engineering|$60063.17|\n",
      "|  8|  Veronika|   Forryan|Female|     Human Resources|$44482.07|\n",
      "|  9|    Anthia|    Monini|Female|             Support|$81976.47|\n",
      "| 10|    Keelby|   McCahey|  Male|               Legal|$60125.48|\n",
      "| 11|  Rochette|   Bullick|Female|            Training|$92893.76|\n",
      "| 12|    Kippie|   Duckham|  Male|             Support|$63932.62|\n",
      "| 13|    Andeee|   Hanscom|Female|Business Development|$67861.20|\n",
      "| 14|       Kim|    Seymer|Female|     Human Resources|$70413.48|\n",
      "| 15|   Deloris|   Gabbett|Female|           Marketing|$40341.41|\n",
      "| 16|      Arny|    Gravie|  Male|         Engineering|$58095.96|\n",
      "| 17|  Andriana|   Swalwel|Female|  Product Management|$67978.97|\n",
      "| 18|    Olenka|     Ehrat|Female|               Legal|$57446.44|\n",
      "| 19|      Burk| Sallenger|  Male|Business Development|$22310.30|\n",
      "| 20|    Hewitt|   Dunnett|  Male|Research and Deve...|$88120.12|\n",
      "+---+----------+----------+------+--------------------+---------+\n",
      "only showing top 20 rows\n",
      "\n"
     ]
    }
   ],
   "source": [
    "# rename any one column\n",
    "df.withColumnRenamed(\"departments\" ,\"dept\").show()"
   ]
  },
  {
   "cell_type": "code",
   "execution_count": 20,
   "id": "f42a14f0-dedc-41ea-96fe-6aacf73f6feb",
   "metadata": {},
   "outputs": [
    {
     "name": "stdout",
     "output_type": "stream",
     "text": [
      "+---+---------+----------+------+--------------------+---------+\n",
      "| id|    fname|     lname|gender|                dept|   salary|\n",
      "+---+---------+----------+------+--------------------+---------+\n",
      "|  1|  Cordell|Kitchenham|  Male|Business Development|$18137.19|\n",
      "|  2|Emmalynne|Fearnsides|Female|           Marketing|$64524.97|\n",
      "|  3|    Jesse|   Hekkert|  Male|           Marketing|$51168.20|\n",
      "|  4|    Decca|   Klimsch|  Male|           Marketing|$17827.51|\n",
      "|  5|      Gib|Le Pruvost|  Male|  Product Management|$40026.02|\n",
      "|  6|     Drew|  Shenfish|  Male|               Sales|$75958.90|\n",
      "|  7| Anabelle|   Burhill|Female|         Engineering|$60063.17|\n",
      "|  8| Veronika|   Forryan|Female|     Human Resources|$44482.07|\n",
      "|  9|   Anthia|    Monini|Female|             Support|$81976.47|\n",
      "| 10|   Keelby|   McCahey|  Male|               Legal|$60125.48|\n",
      "| 11| Rochette|   Bullick|Female|            Training|$92893.76|\n",
      "| 12|   Kippie|   Duckham|  Male|             Support|$63932.62|\n",
      "| 13|   Andeee|   Hanscom|Female|Business Development|$67861.20|\n",
      "| 14|      Kim|    Seymer|Female|     Human Resources|$70413.48|\n",
      "| 15|  Deloris|   Gabbett|Female|           Marketing|$40341.41|\n",
      "| 16|     Arny|    Gravie|  Male|         Engineering|$58095.96|\n",
      "| 17| Andriana|   Swalwel|Female|  Product Management|$67978.97|\n",
      "| 18|   Olenka|     Ehrat|Female|               Legal|$57446.44|\n",
      "| 19|     Burk| Sallenger|  Male|Business Development|$22310.30|\n",
      "| 20|   Hewitt|   Dunnett|  Male|Research and Deve...|$88120.12|\n",
      "+---+---------+----------+------+--------------------+---------+\n",
      "only showing top 20 rows\n",
      "\n"
     ]
    }
   ],
   "source": [
    "# multiple column rename \n",
    "df.withColumnRenamed(\"departments\",\"dept\").withColumnRenamed(\"first_name\",\"fname\").withColumnRenamed(\"last_name\",\"lname\").show()"
   ]
  },
  {
   "cell_type": "code",
   "execution_count": 21,
   "id": "657ffc54-ab21-4e3e-9e38-3ed6c06b118a",
   "metadata": {},
   "outputs": [
    {
     "name": "stdout",
     "output_type": "stream",
     "text": [
      "+---+----------+----------+------+--------------------+---------+\n",
      "| id|first_name| last_name|gender|         departments|   salary|\n",
      "+---+----------+----------+------+--------------------+---------+\n",
      "|  1|   Cordell|Kitchenham|  Male|Business Development|$18137.19|\n",
      "|  2| Emmalynne|Fearnsides|Female|           Marketing|$64524.97|\n",
      "|  3|     Jesse|   Hekkert|  Male|           Marketing|$51168.20|\n",
      "|  4|     Decca|   Klimsch|  Male|           Marketing|$17827.51|\n",
      "|  5|       Gib|Le Pruvost|  Male|  Product Management|$40026.02|\n",
      "|  6|      Drew|  Shenfish|  Male|               Sales|$75958.90|\n",
      "|  7|  Anabelle|   Burhill|Female|         Engineering|$60063.17|\n",
      "|  8|  Veronika|   Forryan|Female|     Human Resources|$44482.07|\n",
      "|  9|    Anthia|    Monini|Female|             Support|$81976.47|\n",
      "| 10|    Keelby|   McCahey|  Male|               Legal|$60125.48|\n",
      "| 11|  Rochette|   Bullick|Female|            Training|$92893.76|\n",
      "| 12|    Kippie|   Duckham|  Male|             Support|$63932.62|\n",
      "| 13|    Andeee|   Hanscom|Female|Business Development|$67861.20|\n",
      "| 14|       Kim|    Seymer|Female|     Human Resources|$70413.48|\n",
      "| 15|   Deloris|   Gabbett|Female|           Marketing|$40341.41|\n",
      "| 16|      Arny|    Gravie|  Male|         Engineering|$58095.96|\n",
      "| 17|  Andriana|   Swalwel|Female|  Product Management|$67978.97|\n",
      "| 18|    Olenka|     Ehrat|Female|               Legal|$57446.44|\n",
      "| 19|      Burk| Sallenger|  Male|Business Development|$22310.30|\n",
      "| 20|    Hewitt|   Dunnett|  Male|Research and Deve...|$88120.12|\n",
      "+---+----------+----------+------+--------------------+---------+\n",
      "only showing top 20 rows\n",
      "\n"
     ]
    }
   ],
   "source": [
    "df.na.drop(how='all').show()"
   ]
  },
  {
   "cell_type": "code",
   "execution_count": 22,
   "id": "06b2741c-bd28-49fd-a8ed-9de40d56ee28",
   "metadata": {},
   "outputs": [
    {
     "name": "stdout",
     "output_type": "stream",
     "text": [
      "+---+----------+----------+------+--------------------+---------+\n",
      "| id|first_name| last_name|gender|         departments|   salary|\n",
      "+---+----------+----------+------+--------------------+---------+\n",
      "|  1|   Cordell|Kitchenham|  Male|Business Development|$18137.19|\n",
      "|  2| Emmalynne|Fearnsides|Female|           Marketing|$64524.97|\n",
      "|  3|     Jesse|   Hekkert|  Male|           Marketing|$51168.20|\n",
      "|  4|     Decca|   Klimsch|  Male|           Marketing|$17827.51|\n",
      "|  5|       Gib|Le Pruvost|  Male|  Product Management|$40026.02|\n",
      "|  6|      Drew|  Shenfish|  Male|               Sales|$75958.90|\n",
      "|  7|  Anabelle|   Burhill|Female|         Engineering|$60063.17|\n",
      "|  8|  Veronika|   Forryan|Female|     Human Resources|$44482.07|\n",
      "|  9|    Anthia|    Monini|Female|             Support|$81976.47|\n",
      "| 10|    Keelby|   McCahey|  Male|               Legal|$60125.48|\n",
      "| 11|  Rochette|   Bullick|Female|            Training|$92893.76|\n",
      "| 12|    Kippie|   Duckham|  Male|             Support|$63932.62|\n",
      "| 13|    Andeee|   Hanscom|Female|Business Development|$67861.20|\n",
      "| 14|       Kim|    Seymer|Female|     Human Resources|$70413.48|\n",
      "| 15|   Deloris|   Gabbett|Female|           Marketing|$40341.41|\n",
      "| 16|      Arny|    Gravie|  Male|         Engineering|$58095.96|\n",
      "| 17|  Andriana|   Swalwel|Female|  Product Management|$67978.97|\n",
      "| 18|    Olenka|     Ehrat|Female|               Legal|$57446.44|\n",
      "| 19|      Burk| Sallenger|  Male|Business Development|$22310.30|\n",
      "| 20|    Hewitt|   Dunnett|  Male|Research and Deve...|$88120.12|\n",
      "+---+----------+----------+------+--------------------+---------+\n",
      "only showing top 20 rows\n",
      "\n"
     ]
    }
   ],
   "source": [
    "df.na.drop(how='all',thresh=2).show()"
   ]
  },
  {
   "cell_type": "code",
   "execution_count": 23,
   "id": "91ec9c2b-70b3-4238-996a-f03d4ae81744",
   "metadata": {},
   "outputs": [
    {
     "name": "stdout",
     "output_type": "stream",
     "text": [
      "+---+----------+----------+------+--------------------+---------+\n",
      "| id|first_name| last_name|gender|         departments|   salary|\n",
      "+---+----------+----------+------+--------------------+---------+\n",
      "|  1|   Cordell|Kitchenham|  Male|Business Development|$18137.19|\n",
      "|  2| Emmalynne|Fearnsides|Female|           Marketing|$64524.97|\n",
      "|  3|     Jesse|   Hekkert|  Male|           Marketing|$51168.20|\n",
      "|  4|     Decca|   Klimsch|  Male|           Marketing|$17827.51|\n",
      "|  5|       Gib|Le Pruvost|  Male|  Product Management|$40026.02|\n",
      "|  6|      Drew|  Shenfish|  Male|               Sales|$75958.90|\n",
      "|  7|  Anabelle|   Burhill|Female|         Engineering|$60063.17|\n",
      "|  8|  Veronika|   Forryan|Female|     Human Resources|$44482.07|\n",
      "|  9|    Anthia|    Monini|Female|             Support|$81976.47|\n",
      "| 10|    Keelby|   McCahey|  Male|               Legal|$60125.48|\n",
      "| 11|  Rochette|   Bullick|Female|            Training|$92893.76|\n",
      "| 12|    Kippie|   Duckham|  Male|             Support|$63932.62|\n",
      "| 13|    Andeee|   Hanscom|Female|Business Development|$67861.20|\n",
      "| 14|       Kim|    Seymer|Female|     Human Resources|$70413.48|\n",
      "| 15|   Deloris|   Gabbett|Female|           Marketing|$40341.41|\n",
      "| 16|      Arny|    Gravie|  Male|         Engineering|$58095.96|\n",
      "| 17|  Andriana|   Swalwel|Female|  Product Management|$67978.97|\n",
      "| 18|    Olenka|     Ehrat|Female|               Legal|$57446.44|\n",
      "| 19|      Burk| Sallenger|  Male|Business Development|$22310.30|\n",
      "| 20|    Hewitt|   Dunnett|  Male|Research and Deve...|$88120.12|\n",
      "+---+----------+----------+------+--------------------+---------+\n",
      "only showing top 20 rows\n",
      "\n"
     ]
    }
   ],
   "source": [
    "df.na.drop(how='all',subset=['Salary']).show()"
   ]
  },
  {
   "cell_type": "code",
   "execution_count": 24,
   "id": "0e7080f6-5267-4185-9417-e5d6b9b6403c",
   "metadata": {},
   "outputs": [
    {
     "name": "stdout",
     "output_type": "stream",
     "text": [
      "+---+----------+----------+------+--------------------+---------+\n",
      "| id|first_name| last_name|gender|         departments|   salary|\n",
      "+---+----------+----------+------+--------------------+---------+\n",
      "|  1|   Cordell|Kitchenham|  Male|Business Development|$18137.19|\n",
      "|  2| Emmalynne|Fearnsides|Female|           Marketing|$64524.97|\n",
      "|  3|     Jesse|   Hekkert|  Male|           Marketing|$51168.20|\n",
      "|  4|     Decca|   Klimsch|  Male|           Marketing|$17827.51|\n",
      "|  5|       Gib|Le Pruvost|  Male|  Product Management|$40026.02|\n",
      "|  6|      Drew|  Shenfish|  Male|               Sales|$75958.90|\n",
      "|  7|  Anabelle|   Burhill|Female|         Engineering|$60063.17|\n",
      "|  8|  Veronika|   Forryan|Female|     Human Resources|$44482.07|\n",
      "|  9|    Anthia|    Monini|Female|             Support|$81976.47|\n",
      "| 10|    Keelby|   McCahey|  Male|               Legal|$60125.48|\n",
      "| 11|  Rochette|   Bullick|Female|            Training|$92893.76|\n",
      "| 12|    Kippie|   Duckham|  Male|             Support|$63932.62|\n",
      "| 13|    Andeee|   Hanscom|Female|Business Development|$67861.20|\n",
      "| 14|       Kim|    Seymer|Female|     Human Resources|$70413.48|\n",
      "| 15|   Deloris|   Gabbett|Female|           Marketing|$40341.41|\n",
      "| 16|      Arny|    Gravie|  Male|         Engineering|$58095.96|\n",
      "| 17|  Andriana|   Swalwel|Female|  Product Management|$67978.97|\n",
      "| 18|    Olenka|     Ehrat|Female|               Legal|$57446.44|\n",
      "| 19|      Burk| Sallenger|  Male|Business Development|$22310.30|\n",
      "| 20|    Hewitt|   Dunnett|  Male|Research and Deve...|$88120.12|\n",
      "+---+----------+----------+------+--------------------+---------+\n",
      "only showing top 20 rows\n",
      "\n"
     ]
    }
   ],
   "source": [
    "df.na.fill('Missing Value',['Salary']).show()"
   ]
  },
  {
   "cell_type": "markdown",
   "id": "82b44d3a-f6d1-474a-b3f1-cb980d2a6de0",
   "metadata": {},
   "source": [
    "## Aggregate Functions"
   ]
  },
  {
   "cell_type": "code",
   "execution_count": 28,
   "id": "5ae77e03-80cc-46eb-9646-1c6b8ba671ee",
   "metadata": {},
   "outputs": [
    {
     "name": "stdout",
     "output_type": "stream",
     "text": [
      "+---+----------+---------+------+-----------+------+\n",
      "| id|first_name|last_name|gender|departments|salary|\n",
      "+---+----------+---------+------+-----------+------+\n",
      "+---+----------+---------+------+-----------+------+\n",
      "\n"
     ]
    }
   ],
   "source": [
    "df.filter('Salary<=15000').show()"
   ]
  },
  {
   "cell_type": "code",
   "execution_count": 30,
   "id": "481af873-1440-4850-935a-d06f3181dc43",
   "metadata": {},
   "outputs": [
    {
     "name": "stdout",
     "output_type": "stream",
     "text": [
      "+----------+-----------+\n",
      "|first_name|Departments|\n",
      "+----------+-----------+\n",
      "+----------+-----------+\n",
      "\n"
     ]
    }
   ],
   "source": [
    "df.filter('Salary<=15000').select(['first_name','Departments']).show()"
   ]
  },
  {
   "cell_type": "code",
   "execution_count": 36,
   "id": "31af7beb-55c9-41be-b5e9-38ca168dfd4c",
   "metadata": {},
   "outputs": [
    {
     "name": "stdout",
     "output_type": "stream",
     "text": [
      "+---+----------+---------+------+-----------+------+\n",
      "| id|first_name|last_name|gender|departments|salary|\n",
      "+---+----------+---------+------+-----------+------+\n",
      "+---+----------+---------+------+-----------+------+\n",
      "\n"
     ]
    }
   ],
   "source": [
    "df.filter(df['Salary']<=20000).show()"
   ]
  },
  {
   "cell_type": "code",
   "execution_count": 32,
   "id": "a7a573e5-83d0-43c7-97c4-83c3fae40a8a",
   "metadata": {},
   "outputs": [
    {
     "name": "stdout",
     "output_type": "stream",
     "text": [
      "+---------+\n",
      "|   Salary|\n",
      "+---------+\n",
      "|$88606.72|\n",
      "|$28503.19|\n",
      "|$17827.51|\n",
      "|$85716.98|\n",
      "|$87452.76|\n",
      "|$23612.46|\n",
      "|$34251.94|\n",
      "|$61924.53|\n",
      "|$46558.71|\n",
      "|$92626.92|\n",
      "|$32863.78|\n",
      "|$87424.29|\n",
      "|$85569.52|\n",
      "|$53982.39|\n",
      "|$75267.28|\n",
      "|$44449.20|\n",
      "|$20099.74|\n",
      "|$62899.59|\n",
      "|$88043.96|\n",
      "|$79325.49|\n",
      "+---------+\n",
      "only showing top 20 rows\n",
      "\n"
     ]
    }
   ],
   "source": [
    "df.groupby('Salary').sum().show()"
   ]
  },
  {
   "cell_type": "code",
   "execution_count": 37,
   "id": "f0411aed-b66c-41dd-8ea1-6fba83ab133e",
   "metadata": {},
   "outputs": [
    {
     "name": "stdout",
     "output_type": "stream",
     "text": [
      "+--------------------+\n",
      "|         Departments|\n",
      "+--------------------+\n",
      "|            Services|\n",
      "|  Product Management|\n",
      "|               Sales|\n",
      "|         Engineering|\n",
      "|          Accounting|\n",
      "|Business Development|\n",
      "|Research and Deve...|\n",
      "|               Legal|\n",
      "|            Training|\n",
      "|           Marketing|\n",
      "|             Support|\n",
      "|     Human Resources|\n",
      "+--------------------+\n",
      "\n"
     ]
    }
   ],
   "source": [
    "df.groupby('Departments').sum().show()"
   ]
  },
  {
   "cell_type": "code",
   "execution_count": 38,
   "id": "6bdfa2de-6242-4ec0-b644-12c98fe7e07f",
   "metadata": {},
   "outputs": [
    {
     "name": "stdout",
     "output_type": "stream",
     "text": [
      "+--------------------+\n",
      "|         Departments|\n",
      "+--------------------+\n",
      "|            Services|\n",
      "|  Product Management|\n",
      "|               Sales|\n",
      "|         Engineering|\n",
      "|          Accounting|\n",
      "|Business Development|\n",
      "|Research and Deve...|\n",
      "|               Legal|\n",
      "|            Training|\n",
      "|           Marketing|\n",
      "|             Support|\n",
      "|     Human Resources|\n",
      "+--------------------+\n",
      "\n"
     ]
    }
   ],
   "source": [
    "df.groupby('Departments').mean().show()"
   ]
  },
  {
   "cell_type": "code",
   "execution_count": 39,
   "id": "856d996a-9231-4fa8-b703-47a900a69e83",
   "metadata": {},
   "outputs": [
    {
     "name": "stdout",
     "output_type": "stream",
     "text": [
      "+--------------------+-----+\n",
      "|         Departments|count|\n",
      "+--------------------+-----+\n",
      "|            Services|   80|\n",
      "|  Product Management|   68|\n",
      "|               Sales|   91|\n",
      "|         Engineering|   82|\n",
      "|          Accounting|   86|\n",
      "|Business Development|   95|\n",
      "|Research and Deve...|   77|\n",
      "|               Legal|   87|\n",
      "|            Training|   87|\n",
      "|           Marketing|   85|\n",
      "|             Support|   82|\n",
      "|     Human Resources|   80|\n",
      "+--------------------+-----+\n",
      "\n"
     ]
    }
   ],
   "source": [
    "df.groupby('Departments').count().show()"
   ]
  },
  {
   "cell_type": "code",
   "execution_count": 40,
   "id": "91b21e04-825a-4012-a720-341b21717c10",
   "metadata": {},
   "outputs": [
    {
     "name": "stdout",
     "output_type": "stream",
     "text": [
      "+-----------+\n",
      "|sum(Salary)|\n",
      "+-----------+\n",
      "|       null|\n",
      "+-----------+\n",
      "\n"
     ]
    }
   ],
   "source": [
    "df.agg({'Salary':'sum'}).show()"
   ]
  },
  {
   "cell_type": "code",
   "execution_count": 41,
   "id": "7f494f0f-bf73-4ddb-8915-5101fdf77db7",
   "metadata": {},
   "outputs": [
    {
     "name": "stdout",
     "output_type": "stream",
     "text": [
      "+--------------------+\n",
      "|         Departments|\n",
      "+--------------------+\n",
      "|            Services|\n",
      "|  Product Management|\n",
      "|               Sales|\n",
      "|         Engineering|\n",
      "|          Accounting|\n",
      "|Business Development|\n",
      "|Research and Deve...|\n",
      "|               Legal|\n",
      "|            Training|\n",
      "|           Marketing|\n",
      "|             Support|\n",
      "|     Human Resources|\n",
      "+--------------------+\n",
      "\n"
     ]
    }
   ],
   "source": [
    "df.groupby('Departments').max().show()"
   ]
  },
  {
   "cell_type": "code",
   "execution_count": 42,
   "id": "ec7096ee-2b40-4392-8c80-5059677ba740",
   "metadata": {},
   "outputs": [
    {
     "name": "stdout",
     "output_type": "stream",
     "text": [
      "+--------------------+\n",
      "|         Departments|\n",
      "+--------------------+\n",
      "|            Services|\n",
      "|  Product Management|\n",
      "|               Sales|\n",
      "|         Engineering|\n",
      "|          Accounting|\n",
      "|Business Development|\n",
      "|Research and Deve...|\n",
      "|               Legal|\n",
      "|            Training|\n",
      "|           Marketing|\n",
      "|             Support|\n",
      "|     Human Resources|\n",
      "+--------------------+\n",
      "\n"
     ]
    }
   ],
   "source": [
    "df.groupby('Departments').min().show()"
   ]
  },
  {
   "cell_type": "code",
   "execution_count": 51,
   "id": "2c5fcba3-b748-49f9-983a-18aa9f6d8acb",
   "metadata": {},
   "outputs": [
    {
     "name": "stdout",
     "output_type": "stream",
     "text": [
      "+-----------+\n",
      "|  last_name|\n",
      "+-----------+\n",
      "|    Scimone|\n",
      "|      Renol|\n",
      "|   Chesswas|\n",
      "|    Harmant|\n",
      "|   Moreland|\n",
      "|    Meyrick|\n",
      "|  Worcester|\n",
      "|   Shenfish|\n",
      "|       Chad|\n",
      "|  O'Canavan|\n",
      "|  Dollimore|\n",
      "|    Salvage|\n",
      "|   McQuilty|\n",
      "|     Bernot|\n",
      "|     Gronno|\n",
      "|     Bowmen|\n",
      "|Brigginshaw|\n",
      "|        Pre|\n",
      "|      Robke|\n",
      "|   Harrison|\n",
      "+-----------+\n",
      "only showing top 20 rows\n",
      "\n"
     ]
    }
   ],
   "source": [
    "df.groupby('last_name').avg().show()"
   ]
  },
  {
   "cell_type": "code",
   "execution_count": 50,
   "id": "bc5a116a-4277-491c-9e70-c2369c4b9d84",
   "metadata": {},
   "outputs": [
    {
     "name": "stdout",
     "output_type": "stream",
     "text": [
      "+---+----------+-----------+------+--------------------+---------+\n",
      "| id|first_name|  last_name|gender|         departments|   salary|\n",
      "+---+----------+-----------+------+--------------------+---------+\n",
      "| 25|   Abagail| Trowbridge|Female|            Training|$24588.29|\n",
      "|390|     Abbey| Spilsburie|  Male|     Human Resources|$65361.18|\n",
      "|334|      Abbi|     Muscat|Female|           Marketing|$60297.08|\n",
      "|662|     Abdul|    Knights|  Male|         Engineering|$32116.71|\n",
      "|788|     Abran| Nethercott|  Male|            Training|$15081.61|\n",
      "|387|   Adaline|    Isworth|Female|               Sales|$55559.02|\n",
      "|934|     Addie|     Sapson|Female|Business Development|$85569.52|\n",
      "|990|   Addison|      Glyde|  Male|  Product Management|$21416.12|\n",
      "|357|       Ade|     Bruhke|  Male|            Training|$45017.42|\n",
      "|410|   Adelind|     Toulch|Female|Business Development|$54726.98|\n",
      "|763|     Adham|    Sedgman|  Male|            Services|$47049.29|\n",
      "| 73|     Adrea|    Barnett|Female|               Sales|$31957.59|\n",
      "| 28|     Adrea|    O'Devey|Female|           Marketing|$58994.30|\n",
      "|509|  Adriaens|  MacKibbon|Female|     Human Resources|$20214.96|\n",
      "|374|   Aeriela|   Holhouse|Female|  Product Management|$16151.71|\n",
      "|414|     Agace| Fillingham|Female|               Legal|$34878.01|\n",
      "|621|    Agnola|Crosthwaite|Female|          Accounting|$84983.48|\n",
      "|226|   Agretha|    Treweke|Female|             Support|$93527.11|\n",
      "|711|     Ailey|      Malan|Female|               Legal|$74259.82|\n",
      "|553|      Alan|     Golson|  Male|               Legal|$16616.99|\n",
      "+---+----------+-----------+------+--------------------+---------+\n",
      "only showing top 20 rows\n",
      "\n"
     ]
    }
   ],
   "source": [
    "df.orderBy('first_name').show()"
   ]
  },
  {
   "cell_type": "code",
   "execution_count": 45,
   "id": "800ca261-7570-4838-8868-b444497c4144",
   "metadata": {},
   "outputs": [
    {
     "name": "stdout",
     "output_type": "stream",
     "text": [
      "+---+----------+------------+-----------+-----------+---------+\n",
      "| id|first_name|   last_name|     gender|departments|   salary|\n",
      "+---+----------+------------+-----------+-----------+---------+\n",
      "|165| Hollyanne|      Corris|     Female|   Training|$33279.03|\n",
      "|341|      Pepe|    Kidstoun|       Male|   Training|$12911.06|\n",
      "|173|   Ceciley|      Chuter|     Female|   Training|$23690.15|\n",
      "| 25|   Abagail|  Trowbridge|     Female|   Training|$24588.29|\n",
      "|174|     Heidi|    Pinckney|Genderfluid|   Training|$65455.38|\n",
      "| 87|    Goldia|      Gooley|     Female|   Training|$88893.00|\n",
      "|189|     Leola|  Woollaston|     Female|   Training|$47627.00|\n",
      "| 94|  Maryrose|     McCoole|     Female|   Training|$56349.70|\n",
      "|191|    Thelma|      Dorsey|     Female|   Training|$63890.10|\n",
      "|106|   Pinchas|        Lyfe|       Male|   Training|$75035.24|\n",
      "|198|    Lucias|        Emor|       Male|   Training|$76813.92|\n",
      "|127|   Horacio|    McQuaker|       Male|   Training|$10254.37|\n",
      "|201|   Mahmoud|     Andrieu|       Male|   Training|$49659.53|\n",
      "|153|    Andres|de Glanville| Polygender|   Training|$36301.53|\n",
      "|219|     Isaac|      Sprott|       Male|   Training|$51845.93|\n",
      "|272|   Jeanine|      Friatt|Genderqueer|   Training|$55396.91|\n",
      "|329|    Magnum|    McFadden|       Male|   Training|$36970.62|\n",
      "|290|     Peggi|     Bretton|     Female|   Training|$17841.43|\n",
      "| 45|   Hartley|     Faughey|       Male|   Training|$86452.02|\n",
      "|292|    Gayler|     Dunkirk|       Male|   Training|$44342.16|\n",
      "+---+----------+------------+-----------+-----------+---------+\n",
      "only showing top 20 rows\n",
      "\n"
     ]
    }
   ],
   "source": [
    "df.sort(\"Departments\", ascending=False).show()"
   ]
  },
  {
   "cell_type": "code",
   "execution_count": 49,
   "id": "4f91d620-7ec9-43c5-b535-d27bece9726d",
   "metadata": {},
   "outputs": [
    {
     "name": "stdout",
     "output_type": "stream",
     "text": [
      "+---+----------+------------+-----------+-----------+---------+\n",
      "| id|first_name|   last_name|     gender|departments|   salary|\n",
      "+---+----------+------------+-----------+-----------+---------+\n",
      "|165| Hollyanne|      Corris|     Female|   Training|$33279.03|\n",
      "|341|      Pepe|    Kidstoun|       Male|   Training|$12911.06|\n",
      "|173|   Ceciley|      Chuter|     Female|   Training|$23690.15|\n",
      "| 25|   Abagail|  Trowbridge|     Female|   Training|$24588.29|\n",
      "|174|     Heidi|    Pinckney|Genderfluid|   Training|$65455.38|\n",
      "| 87|    Goldia|      Gooley|     Female|   Training|$88893.00|\n",
      "|189|     Leola|  Woollaston|     Female|   Training|$47627.00|\n",
      "| 94|  Maryrose|     McCoole|     Female|   Training|$56349.70|\n",
      "|191|    Thelma|      Dorsey|     Female|   Training|$63890.10|\n",
      "|106|   Pinchas|        Lyfe|       Male|   Training|$75035.24|\n",
      "|198|    Lucias|        Emor|       Male|   Training|$76813.92|\n",
      "|127|   Horacio|    McQuaker|       Male|   Training|$10254.37|\n",
      "|201|   Mahmoud|     Andrieu|       Male|   Training|$49659.53|\n",
      "|153|    Andres|de Glanville| Polygender|   Training|$36301.53|\n",
      "|219|     Isaac|      Sprott|       Male|   Training|$51845.93|\n",
      "|272|   Jeanine|      Friatt|Genderqueer|   Training|$55396.91|\n",
      "|329|    Magnum|    McFadden|       Male|   Training|$36970.62|\n",
      "|290|     Peggi|     Bretton|     Female|   Training|$17841.43|\n",
      "| 45|   Hartley|     Faughey|       Male|   Training|$86452.02|\n",
      "|292|    Gayler|     Dunkirk|       Male|   Training|$44342.16|\n",
      "+---+----------+------------+-----------+-----------+---------+\n",
      "only showing top 20 rows\n",
      "\n"
     ]
    }
   ],
   "source": [
    "df.orderBy(df.departments.desc()).show()"
   ]
  },
  {
   "cell_type": "code",
   "execution_count": 53,
   "id": "2dbca57e-8944-41f1-b46e-dcbb8335e4cd",
   "metadata": {},
   "outputs": [
    {
     "name": "stdout",
     "output_type": "stream",
     "text": [
      "+---+----------+------------+-----------+--------------------+---------+\n",
      "| id|first_name|   last_name|     gender|         departments|   salary|\n",
      "+---+----------+------------+-----------+--------------------+---------+\n",
      "|652|    Sutton|  de Villier|       Male|          Accounting|$10399.76|\n",
      "|153|    Andres|de Glanville| Polygender|            Training|$36301.53|\n",
      "|194|     Kathy|    Zuanazzi|Genderfluid|  Product Management|$48079.17|\n",
      "|923|   Pauline|   Zimmerman|     Female|             Support|$83541.95|\n",
      "|744|    Rhodia|      Zambon|     Female|            Training|$83726.33|\n",
      "|813|   Jeniece|      Yurlov|     Female|     Human Resources|$79315.83|\n",
      "|503|   Charity|       Yurin|     Female|     Human Resources|$93541.70|\n",
      "|148|  Garnette|      Yarham|     Female|            Services|$61182.16|\n",
      "|994|   Cornela|        Yard|     Female|               Sales|$10599.82|\n",
      "|206|    Marthe|        Yapp|     Female|         Engineering|$86841.35|\n",
      "|579|Gabriellia|       Yanez|     Female|             Support|$31364.65|\n",
      "|717|  Mortimer|   Wynrehame|       Male|               Sales|$28313.70|\n",
      "|134|     Ivett|       Wyatt|     Female|Research and Deve...|$23667.84|\n",
      "|986|    Simone|        Wurz|     Female|Business Development|$56320.89|\n",
      "|131|   Desmund|   Wrightham| Non-binary|Business Development|$18378.55|\n",
      "|940| Sanderson|   Worcester|       Male|          Accounting|$60994.18|\n",
      "|239|   Chloris|     Woosnam|     Female|  Product Management|$10550.85|\n",
      "| 24|      Kris|   Woolliams|     Female|Business Development|$27559.77|\n",
      "|189|     Leola|  Woollaston|     Female|            Training|$47627.00|\n",
      "|298|    Arleta|     Woodyer|     Female|             Support|$84675.03|\n",
      "+---+----------+------------+-----------+--------------------+---------+\n",
      "only showing top 20 rows\n",
      "\n"
     ]
    }
   ],
   "source": [
    "df.sort(df.last_name.desc()).show()"
   ]
  },
  {
   "cell_type": "code",
   "execution_count": 54,
   "id": "799dc429-b388-4fbb-aec6-eb5db4a5c3fc",
   "metadata": {},
   "outputs": [
    {
     "name": "stdout",
     "output_type": "stream",
     "text": [
      "+---+----------+-----------+------+--------------------+---------+\n",
      "| id|first_name|  last_name|gender|         departments|   salary|\n",
      "+---+----------+-----------+------+--------------------+---------+\n",
      "| 25|   Abagail| Trowbridge|Female|            Training|$24588.29|\n",
      "|390|     Abbey| Spilsburie|  Male|     Human Resources|$65361.18|\n",
      "|334|      Abbi|     Muscat|Female|           Marketing|$60297.08|\n",
      "|662|     Abdul|    Knights|  Male|         Engineering|$32116.71|\n",
      "|788|     Abran| Nethercott|  Male|            Training|$15081.61|\n",
      "|387|   Adaline|    Isworth|Female|               Sales|$55559.02|\n",
      "|934|     Addie|     Sapson|Female|Business Development|$85569.52|\n",
      "|990|   Addison|      Glyde|  Male|  Product Management|$21416.12|\n",
      "|357|       Ade|     Bruhke|  Male|            Training|$45017.42|\n",
      "|410|   Adelind|     Toulch|Female|Business Development|$54726.98|\n",
      "|763|     Adham|    Sedgman|  Male|            Services|$47049.29|\n",
      "| 73|     Adrea|    Barnett|Female|               Sales|$31957.59|\n",
      "| 28|     Adrea|    O'Devey|Female|           Marketing|$58994.30|\n",
      "|509|  Adriaens|  MacKibbon|Female|     Human Resources|$20214.96|\n",
      "|374|   Aeriela|   Holhouse|Female|  Product Management|$16151.71|\n",
      "|414|     Agace| Fillingham|Female|               Legal|$34878.01|\n",
      "|621|    Agnola|Crosthwaite|Female|          Accounting|$84983.48|\n",
      "|226|   Agretha|    Treweke|Female|             Support|$93527.11|\n",
      "|711|     Ailey|      Malan|Female|               Legal|$74259.82|\n",
      "|553|      Alan|     Golson|  Male|               Legal|$16616.99|\n",
      "+---+----------+-----------+------+--------------------+---------+\n",
      "only showing top 20 rows\n",
      "\n"
     ]
    }
   ],
   "source": [
    "df.sort(df.first_name,df.departments.desc()).show()"
   ]
  },
  {
   "cell_type": "code",
   "execution_count": 56,
   "id": "2446f144-fa88-4f72-abb5-044a2b3287c6",
   "metadata": {},
   "outputs": [
    {
     "name": "stdout",
     "output_type": "stream",
     "text": [
      "+----------+--------------------+\n",
      "|first_name|         departments|\n",
      "+----------+--------------------+\n",
      "|   Cordell|Business Development|\n",
      "| Emmalynne|           Marketing|\n",
      "|     Jesse|           Marketing|\n",
      "|     Decca|           Marketing|\n",
      "|       Gib|  Product Management|\n",
      "|      Drew|               Sales|\n",
      "|  Anabelle|         Engineering|\n",
      "|  Veronika|     Human Resources|\n",
      "|    Anthia|             Support|\n",
      "|    Keelby|               Legal|\n",
      "|  Rochette|            Training|\n",
      "|    Kippie|             Support|\n",
      "|    Andeee|Business Development|\n",
      "|       Kim|     Human Resources|\n",
      "|   Deloris|           Marketing|\n",
      "|      Arny|         Engineering|\n",
      "|  Andriana|  Product Management|\n",
      "|    Olenka|               Legal|\n",
      "|      Burk|Business Development|\n",
      "|    Hewitt|Research and Deve...|\n",
      "+----------+--------------------+\n",
      "only showing top 20 rows\n",
      "\n"
     ]
    }
   ],
   "source": [
    "df.select(\"first_name\",\"departments\").show()"
   ]
  },
  {
   "cell_type": "code",
   "execution_count": 57,
   "id": "e86aa6f4-7f6e-4013-9a66-d5d6027dc99e",
   "metadata": {},
   "outputs": [
    {
     "name": "stdout",
     "output_type": "stream",
     "text": [
      "+---+----------+----------+------+--------------------+---------+----------+\n",
      "| id|first_name| last_name|gender|         departments|   salary|New Salary|\n",
      "+---+----------+----------+------+--------------------+---------+----------+\n",
      "|  1|   Cordell|Kitchenham|  Male|Business Development|$18137.19|      null|\n",
      "|  2| Emmalynne|Fearnsides|Female|           Marketing|$64524.97|      null|\n",
      "|  3|     Jesse|   Hekkert|  Male|           Marketing|$51168.20|      null|\n",
      "|  4|     Decca|   Klimsch|  Male|           Marketing|$17827.51|      null|\n",
      "|  5|       Gib|Le Pruvost|  Male|  Product Management|$40026.02|      null|\n",
      "|  6|      Drew|  Shenfish|  Male|               Sales|$75958.90|      null|\n",
      "|  7|  Anabelle|   Burhill|Female|         Engineering|$60063.17|      null|\n",
      "|  8|  Veronika|   Forryan|Female|     Human Resources|$44482.07|      null|\n",
      "|  9|    Anthia|    Monini|Female|             Support|$81976.47|      null|\n",
      "| 10|    Keelby|   McCahey|  Male|               Legal|$60125.48|      null|\n",
      "| 11|  Rochette|   Bullick|Female|            Training|$92893.76|      null|\n",
      "| 12|    Kippie|   Duckham|  Male|             Support|$63932.62|      null|\n",
      "| 13|    Andeee|   Hanscom|Female|Business Development|$67861.20|      null|\n",
      "| 14|       Kim|    Seymer|Female|     Human Resources|$70413.48|      null|\n",
      "| 15|   Deloris|   Gabbett|Female|           Marketing|$40341.41|      null|\n",
      "| 16|      Arny|    Gravie|  Male|         Engineering|$58095.96|      null|\n",
      "| 17|  Andriana|   Swalwel|Female|  Product Management|$67978.97|      null|\n",
      "| 18|    Olenka|     Ehrat|Female|               Legal|$57446.44|      null|\n",
      "| 19|      Burk| Sallenger|  Male|Business Development|$22310.30|      null|\n",
      "| 20|    Hewitt|   Dunnett|  Male|Research and Deve...|$88120.12|      null|\n",
      "+---+----------+----------+------+--------------------+---------+----------+\n",
      "only showing top 20 rows\n",
      "\n"
     ]
    }
   ],
   "source": [
    "df.withColumn('New Salary',df['Salary']+2000).show()"
   ]
  },
  {
   "cell_type": "code",
   "execution_count": 58,
   "id": "06a09a83-3ca8-4e81-b063-47a4b2f93047",
   "metadata": {},
   "outputs": [
    {
     "name": "stdout",
     "output_type": "stream",
     "text": [
      "+---+----------+----------+------+--------------------+---------+\n",
      "| id|first_name| last_name|gender|         departments|   salary|\n",
      "+---+----------+----------+------+--------------------+---------+\n",
      "|  1|   Cordell|Kitchenham|  Male|Business Development|$18137.19|\n",
      "|  2| Emmalynne|Fearnsides|Female|           Marketing|$64524.97|\n",
      "|  3|     Jesse|   Hekkert|  Male|           Marketing|$51168.20|\n",
      "|  4|     Decca|   Klimsch|  Male|           Marketing|$17827.51|\n",
      "|  5|       Gib|Le Pruvost|  Male|  Product Management|$40026.02|\n",
      "|  6|      Drew|  Shenfish|  Male|               Sales|$75958.90|\n",
      "|  7|  Anabelle|   Burhill|Female|         Engineering|$60063.17|\n",
      "|  8|  Veronika|   Forryan|Female|     Human Resources|$44482.07|\n",
      "|  9|    Anthia|    Monini|Female|             Support|$81976.47|\n",
      "| 10|    Keelby|   McCahey|  Male|               Legal|$60125.48|\n",
      "| 11|  Rochette|   Bullick|Female|            Training|$92893.76|\n",
      "| 12|    Kippie|   Duckham|  Male|             Support|$63932.62|\n",
      "| 13|    Andeee|   Hanscom|Female|Business Development|$67861.20|\n",
      "| 14|       Kim|    Seymer|Female|     Human Resources|$70413.48|\n",
      "| 15|   Deloris|   Gabbett|Female|           Marketing|$40341.41|\n",
      "| 16|      Arny|    Gravie|  Male|         Engineering|$58095.96|\n",
      "| 17|  Andriana|   Swalwel|Female|  Product Management|$67978.97|\n",
      "| 18|    Olenka|     Ehrat|Female|               Legal|$57446.44|\n",
      "| 19|      Burk| Sallenger|  Male|Business Development|$22310.30|\n",
      "| 20|    Hewitt|   Dunnett|  Male|Research and Deve...|$88120.12|\n",
      "+---+----------+----------+------+--------------------+---------+\n",
      "only showing top 20 rows\n",
      "\n"
     ]
    }
   ],
   "source": [
    "df.drop('New Salary').show()"
   ]
  },
  {
   "cell_type": "code",
   "execution_count": null,
   "id": "b0553d08-c28d-43bc-9e52-737f7f8b4a4c",
   "metadata": {},
   "outputs": [],
   "source": []
  },
  {
   "cell_type": "code",
   "execution_count": null,
   "id": "2480ccda-b109-4701-a5bf-c6684169d40f",
   "metadata": {},
   "outputs": [],
   "source": []
  },
  {
   "cell_type": "code",
   "execution_count": null,
   "id": "b4e3cb37-167e-43bc-9560-2c8155159647",
   "metadata": {},
   "outputs": [],
   "source": []
  },
  {
   "cell_type": "code",
   "execution_count": null,
   "id": "acabb41f-3f04-477e-a1d5-d175e316e0e8",
   "metadata": {},
   "outputs": [],
   "source": []
  },
  {
   "cell_type": "code",
   "execution_count": null,
   "id": "8fa8aae3-f1fc-44b3-81fc-ae6f48b25047",
   "metadata": {},
   "outputs": [],
   "source": []
  },
  {
   "cell_type": "code",
   "execution_count": null,
   "id": "4ed7038e-78b3-4a8d-95a3-94f9b83f5658",
   "metadata": {},
   "outputs": [],
   "source": []
  },
  {
   "cell_type": "code",
   "execution_count": null,
   "id": "67ed8692-abc7-4c83-8f58-f94808c1dbf8",
   "metadata": {},
   "outputs": [],
   "source": []
  },
  {
   "cell_type": "code",
   "execution_count": null,
   "id": "9c29fec7-3302-45ac-92ca-8c70abd5ff2b",
   "metadata": {},
   "outputs": [],
   "source": []
  },
  {
   "cell_type": "code",
   "execution_count": null,
   "id": "e8d40e29-585b-40c0-91f5-02fc164b94fc",
   "metadata": {},
   "outputs": [],
   "source": []
  }
 ],
 "metadata": {
  "kernelspec": {
   "display_name": "Python 3 (ipykernel)",
   "language": "python",
   "name": "python3"
  },
  "language_info": {
   "codemirror_mode": {
    "name": "ipython",
    "version": 3
   },
   "file_extension": ".py",
   "mimetype": "text/x-python",
   "name": "python",
   "nbconvert_exporter": "python",
   "pygments_lexer": "ipython3",
   "version": "3.11.7"
  }
 },
 "nbformat": 4,
 "nbformat_minor": 5
}
